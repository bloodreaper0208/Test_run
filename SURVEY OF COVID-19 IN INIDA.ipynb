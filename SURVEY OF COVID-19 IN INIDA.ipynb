{
  "nbformat": 4,
  "nbformat_minor": 0,
  "metadata": {
    "kernelspec": {
      "display_name": "Python 3",
      "language": "python",
      "name": "python3"
    },
    "language_info": {
      "codemirror_mode": {
        "name": "ipython",
        "version": 3
      },
      "file_extension": ".py",
      "mimetype": "text/x-python",
      "name": "python",
      "nbconvert_exporter": "python",
      "pygments_lexer": "ipython3",
      "version": "3.7.4"
    },
    "colab": {
      "name": "Case Study 2( India Case).ipynb",
      "provenance": []
    }
  },
  "cells": [
    {
      "cell_type": "code",
      "metadata": {
        "id": "eSBC3et2rmde"
      },
      "source": [
        "import numpy as np\n",
        "import matplotlib as plt\n",
        "import pandas as pd"
      ],
      "execution_count": null,
      "outputs": []
    },
    {
      "cell_type": "code",
      "metadata": {
        "id": "1XmZykhYrmdk"
      },
      "source": [
        "df = pd.read_csv(r'C:\\Users\\Manas\\Desktop\\Data Analytics Internship Fouses\\Indian_Cities.csv')"
      ],
      "execution_count": null,
      "outputs": []
    },
    {
      "cell_type": "code",
      "metadata": {
        "id": "YFl4nKmDrmdo",
        "outputId": "94d63628-5cfe-45a2-9549-2248898941f5"
      },
      "source": [
        "print(df)"
      ],
      "execution_count": null,
      "outputs": [
        {
          "output_type": "stream",
          "text": [
            "        Cities  ConfirmedCases  Deaths  Recovered  Active\n",
            "0       Mumbai          227276    9828     192096   25352\n",
            "1      Chennai          180696    3393     163778   13525\n",
            "2    Bengaluru          276934    3321     208702   64911\n",
            "3    Hyderabad            2683      18        138    2527\n",
            "4   Ahemedabad           38737    1845      33350    3542\n",
            "5      Kolkata           63686    1861      55312    6513\n",
            "6       Jaipur           26147     336      16889    8922\n",
            "7    New Delhi          306559    5740     278812   22007\n",
            "8         Pune          314118    6219     261316   46583\n",
            "9   Chandigarh           13081     190      11662    1229\n",
            "10       Surat           31918     798      28725    2395\n",
            "11      Indore           28638     628      24024    3986\n",
            "12      Bhopal           19572     423      17181    1965\n",
            "13      Kanpur           26665     703      23214    2748\n",
            "14        Agra            6368     131       5626     611\n"
          ],
          "name": "stdout"
        }
      ]
    },
    {
      "cell_type": "code",
      "metadata": {
        "id": "wCFn75vmrmds",
        "outputId": "28e387a5-e652-41db-b717-e782ec7b63bc"
      },
      "source": [
        "print(\"The city with the highest number of Total Cases is:-- \")\n",
        "print(df[df.ConirmedCases==df.ConfirmedCases.max()])"
      ],
      "execution_count": null,
      "outputs": [
        {
          "output_type": "stream",
          "text": [
            "The city with the highest number of Total Cases is:-- \n",
            "  Cities  ConfirmedCases  Deaths  Recovered  Active\n",
            "8   Pune          314118    6219     261316   46583\n"
          ],
          "name": "stdout"
        }
      ]
    },
    {
      "cell_type": "code",
      "metadata": {
        "id": "AFJhvvilrmdw"
      },
      "source": [
        "x = df['ConfirmedCases']\n",
        "y = df['Deaths']\n",
        "z = df['Recovered']\n",
        "case_to_death = x/y\n",
        "case_to_recovery = x/z"
      ],
      "execution_count": null,
      "outputs": []
    },
    {
      "cell_type": "code",
      "metadata": {
        "id": "6cNU-cvMrmd0",
        "outputId": "79ae20b8-7d71-48de-b27d-da029f4ab11a"
      },
      "source": [
        "df[\"Case_Death_R\"]=case_to_death\n",
        "df[\"Case_Recovery_R\"]=case_to_recovery\n",
        "print(df)"
      ],
      "execution_count": null,
      "outputs": [
        {
          "output_type": "stream",
          "text": [
            "        Cities  ConfirmedCases  Deaths  Recovered  Active  Case_Death_R  \\\n",
            "0       Mumbai          227276    9828     192096   25352     23.125356   \n",
            "1      Chennai          180696    3393     163778   13525     53.255526   \n",
            "2    Bengaluru          276934    3321     208702   64911     83.388738   \n",
            "3    Hyderabad            2683      18        138    2527    149.055556   \n",
            "4   Ahemedabad           38737    1845      33350    3542     20.995664   \n",
            "5      Kolkata           63686    1861      55312    6513     34.221386   \n",
            "6       Jaipur           26147     336      16889    8922     77.818452   \n",
            "7    New Delhi          306559    5740     278812   22007     53.407491   \n",
            "8         Pune          314118    6219     261316   46583     50.509407   \n",
            "9   Chandigarh           13081     190      11662    1229     68.847368   \n",
            "10       Surat           31918     798      28725    2395     39.997494   \n",
            "11      Indore           28638     628      24024    3986     45.601911   \n",
            "12      Bhopal           19572     423      17181    1965     46.269504   \n",
            "13      Kanpur           26665     703      23214    2748     37.930299   \n",
            "14        Agra            6368     131       5626     611     48.610687   \n",
            "\n",
            "    Case_Recovery_R  \n",
            "0          1.183138  \n",
            "1          1.103298  \n",
            "2          1.326935  \n",
            "3         19.442029  \n",
            "4          1.161529  \n",
            "5          1.151396  \n",
            "6          1.548167  \n",
            "7          1.099519  \n",
            "8          1.202062  \n",
            "9          1.121677  \n",
            "10         1.111158  \n",
            "11         1.192058  \n",
            "12         1.139165  \n",
            "13         1.148660  \n",
            "14         1.131888  \n"
          ],
          "name": "stdout"
        }
      ]
    },
    {
      "cell_type": "code",
      "metadata": {
        "id": "X-L-wTFBrmd3",
        "outputId": "843d0920-f98a-42c5-c0df-d0f45821036b"
      },
      "source": [
        "print(\"City with the highest Ratio of Total Cases to Deaths is:- \")\n",
        "print(df[df.Case_Death_R  == df.Case_Death_R  .max()])"
      ],
      "execution_count": null,
      "outputs": [
        {
          "output_type": "stream",
          "text": [
            "Country with the highest Ratio of Total Cases to Deaths is:- \n",
            "      Cities  ConfirmedCases  Deaths  Recovered  Active  Case_Death_R  \\\n",
            "3  Hyderabad            2683      18        138    2527    149.055556   \n",
            "\n",
            "   Case_Recovery_R  \n",
            "3        19.442029  \n"
          ],
          "name": "stdout"
        }
      ]
    },
    {
      "cell_type": "code",
      "metadata": {
        "id": "OLIdaE60rmd8",
        "outputId": "728f9556-da7f-4534-d778-6769585219a0"
      },
      "source": [
        "print(\"City with the highest Ratio of Total Cases to Deaths is:- \")\n",
        "print(df[df.Case_Recovery_R == df.Case_Recovery_R  .max()])"
      ],
      "execution_count": null,
      "outputs": [
        {
          "output_type": "stream",
          "text": [
            "City with the highest Ratio of Total Cases to Deaths is:- \n",
            "      Cities  ConfirmedCases  Deaths  Recovered  Active  Case_Death_R  \\\n",
            "3  Hyderabad            2683      18        138    2527    149.055556   \n",
            "\n",
            "   Case_Recovery_R  \n",
            "3        19.442029  \n"
          ],
          "name": "stdout"
        }
      ]
    },
    {
      "cell_type": "code",
      "metadata": {
        "id": "GANJ5anArmeA",
        "outputId": "1a4ecd51-ff8b-44e0-84ae-5f1ba71fe33c"
      },
      "source": [
        "print(\"City with the Lowest Number of Cases is:- \")\n",
        "print(df[df.ConfirmedCases == df.ConfirmedCases.min()])"
      ],
      "execution_count": null,
      "outputs": [
        {
          "output_type": "stream",
          "text": [
            "City with the Lowest Number of Cases is:- \n",
            "      Cities  ConfirmedCases  Deaths  Recovered  Active  Case_Death_R  \\\n",
            "3  Hyderabad            2683      18        138    2527    149.055556   \n",
            "\n",
            "   Case_Recovery_R  \n",
            "3        19.442029  \n"
          ],
          "name": "stdout"
        }
      ]
    },
    {
      "cell_type": "code",
      "metadata": {
        "id": "6C9Dimu_rmeD",
        "outputId": "978b5f73-864e-4d59-e651-f2606013292a"
      },
      "source": [
        "print(\"City which has the highest number of Active Cases is:- \")\n",
        "print(df[df.Active == df.Active.max()])"
      ],
      "execution_count": null,
      "outputs": [
        {
          "output_type": "stream",
          "text": [
            "City which has the highest number of Active Cases is:- \n",
            "      Cities  ConfirmedCases  Deaths  Recovered  Active  Case_Death_R  \\\n",
            "2  Bengaluru          276934    3321     208702   64911     83.388738   \n",
            "\n",
            "   Case_Recovery_R  \n",
            "2         1.326935  \n"
          ],
          "name": "stdout"
        }
      ]
    },
    {
      "cell_type": "code",
      "metadata": {
        "id": "_7gNdrORrmeH"
      },
      "source": [
        ""
      ],
      "execution_count": null,
      "outputs": []
    }
  ]
}